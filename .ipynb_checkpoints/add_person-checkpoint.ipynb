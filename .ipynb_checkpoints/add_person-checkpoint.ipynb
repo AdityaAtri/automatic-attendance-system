{
 "cells": [
  {
   "cell_type": "code",
   "execution_count": 1,
   "metadata": {},
   "outputs": [
    {
     "ename": "ModuleNotFoundError",
     "evalue": "No module named 'dlib'",
     "output_type": "error",
     "traceback": [
      "\u001b[0;31m---------------------------------------------------------------------------\u001b[0m",
      "\u001b[0;31mModuleNotFoundError\u001b[0m                       Traceback (most recent call last)",
      "\u001b[0;32m<ipython-input-1-0fc2cd9129b8>\u001b[0m in \u001b[0;36m<module>\u001b[0;34m\u001b[0m\n\u001b[1;32m      2\u001b[0m \u001b[0;32mimport\u001b[0m \u001b[0mnumpy\u001b[0m \u001b[0;32mas\u001b[0m \u001b[0mnp\u001b[0m\u001b[0;34m\u001b[0m\u001b[0;34m\u001b[0m\u001b[0m\n\u001b[1;32m      3\u001b[0m \u001b[0;32mimport\u001b[0m \u001b[0msqlite3\u001b[0m  \u001b[0;31m#database server\u001b[0m\u001b[0;34m\u001b[0m\u001b[0;34m\u001b[0m\u001b[0m\n\u001b[0;32m----> 4\u001b[0;31m \u001b[0;32mimport\u001b[0m \u001b[0mdlib\u001b[0m    \u001b[0;31m#DLib is a C++ library/toolkit that contains machine learning algorithms, including computer vision\u001b[0m\u001b[0;34m\u001b[0m\u001b[0;34m\u001b[0m\u001b[0m\n\u001b[0m\u001b[1;32m      5\u001b[0m \u001b[0;32mimport\u001b[0m \u001b[0mos\u001b[0m  \u001b[0;31m# os module helps to interact with operating system on which python is running\u001b[0m\u001b[0;34m\u001b[0m\u001b[0;34m\u001b[0m\u001b[0m\n\u001b[1;32m      6\u001b[0m \u001b[0;34m\u001b[0m\u001b[0m\n",
      "\u001b[0;31mModuleNotFoundError\u001b[0m: No module named 'dlib'"
     ]
    }
   ],
   "source": [
    "import cv2  #computer vision library \n",
    "import numpy as np\n",
    "import sqlite3  #database server \n",
    "import dlib    #DLib is a C++ library/toolkit that contains machine learning algorithms, including computer vision\n",
    "import os  # os module helps to interact with operating system on which python is running\n",
    "           # helps to interact with file systems \n",
    "\n",
    "\n",
    "def InsertOrUpdate(ID, Name, roll) :                                            # this function is for database\n",
    "    connect = sqlite3.connect(\"Face-DataBase\")                                  # connecting to the database\n",
    "    cmd = \"select * from Students where ID = \" + ID                             # selecting the row of an id into consideration\n",
    "    cursor = connect.execute(cmd)                                               #executing the command and saving results in cursor \n",
    "    isRecordExist = 0\n",
    "    for row in cursor:  #the cursor will have only one row                      # checking wheather the id exist or not\n",
    "        isRecordExist = 1\n",
    "    if (isRecordExist == 1):                                                    # updating name and roll no\n",
    "        connect.execute(\"update Students set Name = ? where ID = ?\",(Name, Id)) # executing these two commands\n",
    "        connect.execute(\"update Students set Roll = ? where ID = ?\",(roll, Id))\n",
    "    else:   # insering a new student data\n",
    "        connect.execute(\"insert into Students(ID,Name,Roll) VALUES(?, ?, ?)\",(ID,Name,Roll))\n",
    "    connect.commit()                                                            # commiting into the database\n",
    "    connect.close()    \n",
    "#-------------------------------------------------------------------------------------------------------------#\n",
    "name = input(\"Enter the student's name: \")  #raw_input changed to simply input in python3 \n",
    "roll = input(\"Enter the student's ID: \") # this would be string \n",
    "# raw_input stores the input as it is presented \n",
    "ID = roll[-2:]  # last two digits of the string are captured\n",
    "InsertOrUpdate(ID,name,roll)  # till now we have updated or inserted new entry\n",
    "#-------------------------------------------------------------------------------------------------------------#\n",
    "folderName = \"user\" + ID  #remember ID is an string - string concatenation      # creating the person or user folder\n",
    "folderPath = os.path.join(os.path.dirname(os.path.realpath(__file__)), \"dataset/\"+folderName) #where to create folder\n",
    "# os.path.realpath(__file__) -- \n",
    "\n",
    "if not os.path.exists(folderPath):\n",
    "    os.makedirs(folderPath)\n",
    "\n",
    "sampleNum = 0\n",
    "while(True):\n",
    "    ret, img = cap.read()                                                       # reading the camera input\n",
    "    gray = cv2.cvtColor(img, cv2.COLOR_BGR2GRAY)                                # Converting to GrayScale\n",
    "    dets = detector(img, 1)\n",
    "    for i, d in enumerate(dets):                                                # loop will run for each face detected\n",
    "        sampleNum += 1\n",
    "        cv2.imwrite(folderPath + \"/User.\" + Id + \".\" + str(sampleNum) + \".jpg\",\n",
    "                    img[d.top():d.bottom(), d.left():d.right()])                                                # Saving the faces\n",
    "        cv2.rectangle(img, (d.left(), d.top())  ,(d.right(), d.bottom()),(0,255,0) ,2) # Forming the rectangle\n",
    "        cv2.waitKey(200)                                                        # waiting time of 200 milisecond\n",
    "    cv2.imshow('frame', img)                                                    # showing the video input from camera on window\n",
    "    cv2.waitKey(1)\n",
    "    if(sampleNum >= 20):                                                        # will take 20 faces\n",
    "        break\n",
    "\n",
    "cap.release()                                                                   # turning the webcam off\n",
    "cv2.destroyAllWindows() \n"
   ]
  },
  {
   "cell_type": "code",
   "execution_count": null,
   "metadata": {},
   "outputs": [],
   "source": []
  }
 ],
 "metadata": {
  "kernelspec": {
   "display_name": "Python 3",
   "language": "python",
   "name": "python3"
  }
 },
 "nbformat": 4,
 "nbformat_minor": 2
}
